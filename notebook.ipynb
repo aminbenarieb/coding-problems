{
 "cells": [
  {
   "cell_type": "code",
   "execution_count": null,
   "id": "hungry-vacuum",
   "metadata": {},
   "outputs": [],
   "source": [
    "Spreadsheets often use this alphabetical encoding for its columns: \"A\", \"B\", \"C\", ..., \"AA\", \"AB\", ..., \"ZZ\", \"AAA\", \"AAB\", ....\n",
    "Given a column number, return its alphabetical column id. For example, given 1, return \"A\". Given 27, return \"AA\"."
   ]
  },
  {
   "cell_type": "code",
   "execution_count": 13,
   "id": "continued-chrome",
   "metadata": {},
   "outputs": [
    {
     "name": "stdout",
     "output_type": "stream",
     "text": [
      "   0: ''=''\n",
      "   1: 'A'!=''\n",
      "  10: 'J'!=''\n",
      "  26: 'Z'!=''\n",
      "  27: 'AA'!=''\n",
      " 100: 'CV'!=''\n",
      "1000: 'ALL'!=''\n"
     ]
    }
   ],
   "source": [
    "def encode(n):\n",
    "    s = \"\"\n",
    "    while n > 0:\n",
    "        n, remainder = divmod(n - 1, 26)\n",
    "        s = chr(65 + remainder) + s\n",
    "    return s\n",
    "\n",
    "def encode_2(n):\n",
    "    #  1 - A\n",
    "    # 26 - Z\n",
    "    # 27 - AA: \n",
    "    str = \"\"\n",
    "    while true:\n",
    "        quotient, remainder = divmod(n, 26)\n",
    "        str = chr(65 + n)\n",
    "    return str\n",
    "\n",
    "inputs = [0,1,10,26, 27, 100,1000]\n",
    "for input in inputs:\n",
    "    expected = encode(input)\n",
    "    result = encode_2(input)\n",
    "    sign = \"=\" if encode(input) == encode_2(input) else \"!=\"\n",
    "    print(\"{:4}: '{}'{}'{}'\".format(input, expected, sign, result))\n"
   ]
  },
  {
   "cell_type": "code",
   "execution_count": null,
   "id": "mineral-attempt",
   "metadata": {},
   "outputs": [],
   "source": []
  }
 ],
 "metadata": {
  "kernelspec": {
   "display_name": "Python 3",
   "language": "python",
   "name": "python3"
  },
  "language_info": {
   "codemirror_mode": {
    "name": "ipython",
    "version": 3
   },
   "file_extension": ".py",
   "mimetype": "text/x-python",
   "name": "python",
   "nbconvert_exporter": "python",
   "pygments_lexer": "ipython3",
   "version": "3.9.0"
  }
 },
 "nbformat": 4,
 "nbformat_minor": 5
}
