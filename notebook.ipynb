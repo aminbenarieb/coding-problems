{
 "cells": [
  {
   "cell_type": "code",
   "execution_count": null,
   "id": "hungry-vacuum",
   "metadata": {},
   "outputs": [],
   "source": [
    "Spreadsheets often use this alphabetical encoding for its columns: \"A\", \"B\", \"C\", ..., \"AA\", \"AB\", ..., \"ZZ\", \"AAA\", \"AAB\", ....\n",
    "Given a column number, return its alphabetical column id. For example, given 1, return \"A\". Given 27, return \"AA\"."
   ]
  },
  {
   "cell_type": "code",
   "execution_count": 13,
   "id": "continued-chrome",
   "metadata": {},
   "outputs": [
    {
     "name": "stdout",
     "output_type": "stream",
     "text": [
      "   0: ''=''\n",
      "   1: 'A'!=''\n",
      "  10: 'J'!=''\n",
      "  26: 'Z'!=''\n",
      "  27: 'AA'!=''\n",
      " 100: 'CV'!=''\n",
      "1000: 'ALL'!=''\n"
     ]
    }
   ],
   "source": [
    "def encode(n):\n",
    "    s = \"\"\n",
    "    while n > 0:\n",
    "        n, remainder = divmod(n - 1, 26)\n",
    "        s = chr(65 + remainder) + s\n",
    "    return s\n",
    "\n",
    "def encode_2(n):\n",
    "    #  1 - A\n",
    "    # 26 - Z\n",
    "    # 27 - AA: \n",
    "    str = \"\"\n",
    "    while true:\n",
    "        quotient, remainder = divmod(n, 26)\n",
    "        str = chr(65 + n)\n",
    "    return str\n",
    "\n",
    "inputs = [0,1,10,26, 27, 100,1000]\n",
    "for input in inputs:\n",
    "    expected = encode(input)\n",
    "    result = encode_2(input)\n",
    "    sign = \"=\" if encode(input) == encode_2(input) else \"!=\"\n",
    "    print(\"{:4}: '{}'{}'{}'\".format(input, expected, sign, result))\n"
   ]
  },
  {
   "cell_type": "code",
   "execution_count": null,
   "id": "mineral-attempt",
   "metadata": {},
   "outputs": [],
   "source": [
    "Roman numerals are represented by seven different symbols: I, V, X, L, C, D and M.\n",
    "\n",
    "Symbol       Value\n",
    "I             1\n",
    "V             5\n",
    "X             10\n",
    "L             50\n",
    "C             100\n",
    "D             500\n",
    "M             1000\n",
    "For example, 2 is written as II in Roman numeral, just two one's added together. 12 is written as XII, which is simply X + II. The number 27 is written as XXVII, which is XX + V + II.\n",
    "\n",
    "Roman numerals are usually written largest to smallest from left to right. However, the numeral for four is not IIII. Instead, the number four is written as IV. Because the one is before the five we subtract it making four. The same principle applies to the number nine, which is written as IX. There are six instances where subtraction is used:\n",
    "\n",
    "I can be placed before V (5) and X (10) to make 4 and 9. \n",
    "X can be placed before L (50) and C (100) to make 40 and 90. \n",
    "C can be placed before D (500) and M (1000) to make 400 and 900.\n",
    "Given an integer, convert it to a roman numeral.\n",
    "\n",
    " \n",
    "\n",
    "Example 1:\n",
    "\n",
    "Input: num = 3\n",
    "Output: \"III\"\n",
    "Example 2:\n",
    "\n",
    "Input: num = 4\n",
    "Output: \"IV\"\n",
    "Example 3:\n",
    "\n",
    "Input: num = 9\n",
    "Output: \"IX\"\n",
    "Example 4:\n",
    "\n",
    "Input: num = 58\n",
    "Output: \"LVIII\"\n",
    "Explanation: L = 50, V = 5, III = 3.\n",
    "Example 5:\n",
    "\n",
    "Input: num = 1994\n",
    "Output: \"MCMXCIV\"\n",
    "Explanation: M = 1000, CM = 900, XC = 90 and IV = 4.\n",
    " \n",
    "\n",
    "Constraints:\n",
    "\n",
    "1 <= num <= 3999"
   ]
  },
  {
   "cell_type": "code",
   "execution_count": 8,
   "id": "inside-claim",
   "metadata": {},
   "outputs": [
    {
     "name": "stdout",
     "output_type": "stream",
     "text": [
      "III : '3'='3'\n",
      "IV  : '4'='4'\n",
      "IX  : '9'='9'\n",
      "LVIII: '58'='58'\n",
      "MCMXCIV: '1994'='1994'\n"
     ]
    }
   ],
   "source": [
    "def romanToInt(romanStr):\n",
    "    dict = {'I': 1, \"V\": 5, \"X\" :10, \"L\":50, \"C\":100, \"D\": 500, \"M\": 1000}\n",
    "    num = 0\n",
    "    idx = 0\n",
    "    while idx < len(romanStr):\n",
    "        curr = dict[romanStr[idx]]\n",
    "        if len(romanStr) > idx+1:\n",
    "            nex = dict[romanStr[idx+1]]\n",
    "            if curr < nex:\n",
    "                num += nex - curr\n",
    "                idx += 2\n",
    "            else:\n",
    "                num += curr\n",
    "                idx += 1\n",
    "        else:\n",
    "            num += curr\n",
    "            idx += 1  \n",
    "    return num\n",
    "\n",
    "inputs = [\"III\", \"IV\", \"IX\", \"LVIII\", \"MCMXCIV\"]\n",
    "expected_outputs = [3,4,9,58, 1994]\n",
    "for idx in range(0, len(inputs)):\n",
    "    input = inputs[idx]\n",
    "    expected = expected_outputs[idx]\n",
    "    result = romanToInt(input)\n",
    "    sign = \"=\" if romanToInt(input) == expected else \"!=\"\n",
    "    print(\"{:4}: '{}'{}'{}'\".format(input, expected, sign, result))"
   ]
  },
  {
   "cell_type": "code",
   "execution_count": null,
   "id": "selected-graduate",
   "metadata": {},
   "outputs": [],
   "source": []
  }
 ],
 "metadata": {
  "kernelspec": {
   "display_name": "Python 3",
   "language": "python",
   "name": "python3"
  },
  "language_info": {
   "codemirror_mode": {
    "name": "ipython",
    "version": 3
   },
   "file_extension": ".py",
   "mimetype": "text/x-python",
   "name": "python",
   "nbconvert_exporter": "python",
   "pygments_lexer": "ipython3",
   "version": "3.9.0"
  }
 },
 "nbformat": 4,
 "nbformat_minor": 5
}
